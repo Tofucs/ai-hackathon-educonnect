{
 "cells": [
  {
   "cell_type": "code",
   "execution_count": 1,
   "metadata": {},
   "outputs": [],
   "source": [
    "import sklearn\n",
    "import pandas as pd\n",
    "\n",
    "nonprofits = pd.DataFrame({\n",
    "    'name': ['National Association of Student Financial Aid Administrators', 'Nonprofit B', 'Nonprofit C', 'Nonprofit D'],\n",
    "    'focus_area': ['Financial Aid', 'Arts Education', 'Mental Health', 'Environmental Science'],\n",
    "    'description': [\n",
    "        'The National Association of Student Financial Aid Administrators (NASFAA) is a nonpartisan, nonprofit association that provides professional development and services for financial aid administrators, advocates for public policies that increase student success in postsecondary education, and conducts legislative and regulatory analysis related to federal student aid programs.',\n",
    "        'Offering arts workshops and creative classes for students.',\n",
    "        'Mental health support services for students and educators.',\n",
    "        'Promoting environmental science and sustainability education.'\n",
    "    ],\n",
    "    'location': ['Washington DC', 'CA', 'TX', 'WA']\n",
    "})\n",
    "\n",
    "\n",
    "\n",
    "def recommend_nonprofits(embeddings, query_embeddings, k=3):\n",
    "    scores = cosine_similarity(query_embedding, embeddings)[0]\n",
    "    top_k_indices = np.argsort(scores)[-k:][::-1]\n",
    "    recommendations = nonprofits.iloc[top_k_indices].copy()\n",
    "    recommendations['similarity_score'] = scores[top_k_indices]\n",
    "    return recommendations\n",
    "\n",
    "user_prompt = \"\"\"\n",
    "I am a teacher at University of Maryland.\n",
    "We have a lack of staff in our financial aid department\n",
    "I am looking for help in enabling our students to recieve aid and process the documents required\n",
    "\"\"\"\n",
    "\n",
    "user_prompt2 = \"\"\"\n",
    "I go to [school] in [INSERT LOCATION]\n",
    "My school doesn't have a certain class, and I was looking for professional tutoring but don't have the money to hire a tutor\n",
    "\"\"\""
   ]
  },
  {
   "cell_type": "code",
   "execution_count": null,
   "metadata": {},
   "outputs": [],
   "source": [
    "from neo4j import GraphDatabase\n",
    "\n",
    "uri = 'neo4k://neo4j:7687'\n",
    "auth = ('neo4j', 'secretpassword')\n",
    "\n"
   ]
  }
 ],
 "metadata": {
  "kernelspec": {
   "display_name": "Python 3",
   "language": "python",
   "name": "python3"
  },
  "language_info": {
   "codemirror_mode": {
    "name": "ipython",
    "version": 3
   },
   "file_extension": ".py",
   "mimetype": "text/x-python",
   "name": "python",
   "nbconvert_exporter": "python",
   "pygments_lexer": "ipython3",
   "version": "3.12.9"
  }
 },
 "nbformat": 4,
 "nbformat_minor": 2
}
